{
 "cells": [
  {
   "cell_type": "code",
   "execution_count": 15,
   "metadata": {},
   "outputs": [],
   "source": [
    "import hashlib\n",
    "from dotenv import load_dotenv\n",
    "import os\n",
    "\n",
    "load_dotenv(override=True)\n",
    "\n",
    "SENHA_SECRETA = os.getenv(\"SENHA_SECRETA\")\n",
    "\n",
    "def hash_string(input_string):\n",
    "    sha256_hash = hashlib.sha256()\n",
    "    sha256_hash.update(''.join([input_string,SENHA_SECRETA]).encode('utf-8'))\n",
    "    return sha256_hash.hexdigest().upper()\n"
   ]
  },
  {
   "cell_type": "code",
   "execution_count": 16,
   "metadata": {},
   "outputs": [],
   "source": [
    "linhas = [['Rica', '3143154', 'Amazão'],\n",
    "          ['Rica', '3143154', 'Shopee'],\n",
    "          ['Nuiza', '6666', 'Amazão'],\n",
    "          ['Helona', '1231231', 'Amazão'],\n",
    "          ['Rica', '3143154', 'Petz']\n",
    "        ]\n",
    "import pandas as pd\n",
    "\n",
    "df = pd.DataFrame(linhas)\n",
    "df.columns = ['nome', 'cpf', 'loja']"
   ]
  },
  {
   "cell_type": "code",
   "execution_count": 17,
   "metadata": {},
   "outputs": [
    {
     "data": {
      "text/html": [
       "<div>\n",
       "<style scoped>\n",
       "    .dataframe tbody tr th:only-of-type {\n",
       "        vertical-align: middle;\n",
       "    }\n",
       "\n",
       "    .dataframe tbody tr th {\n",
       "        vertical-align: top;\n",
       "    }\n",
       "\n",
       "    .dataframe thead th {\n",
       "        text-align: right;\n",
       "    }\n",
       "</style>\n",
       "<table border=\"1\" class=\"dataframe\">\n",
       "  <thead>\n",
       "    <tr style=\"text-align: right;\">\n",
       "      <th></th>\n",
       "      <th>nome</th>\n",
       "      <th>cpf</th>\n",
       "      <th>loja</th>\n",
       "    </tr>\n",
       "  </thead>\n",
       "  <tbody>\n",
       "    <tr>\n",
       "      <th>0</th>\n",
       "      <td>Rica</td>\n",
       "      <td>3143154</td>\n",
       "      <td>Amazão</td>\n",
       "    </tr>\n",
       "    <tr>\n",
       "      <th>1</th>\n",
       "      <td>Rica</td>\n",
       "      <td>3143154</td>\n",
       "      <td>Shopee</td>\n",
       "    </tr>\n",
       "    <tr>\n",
       "      <th>2</th>\n",
       "      <td>Nuiza</td>\n",
       "      <td>6666</td>\n",
       "      <td>Amazão</td>\n",
       "    </tr>\n",
       "    <tr>\n",
       "      <th>3</th>\n",
       "      <td>Helona</td>\n",
       "      <td>1231231</td>\n",
       "      <td>Amazão</td>\n",
       "    </tr>\n",
       "    <tr>\n",
       "      <th>4</th>\n",
       "      <td>Rica</td>\n",
       "      <td>3143154</td>\n",
       "      <td>Petz</td>\n",
       "    </tr>\n",
       "  </tbody>\n",
       "</table>\n",
       "</div>"
      ],
      "text/plain": [
       "     nome      cpf    loja\n",
       "0    Rica  3143154  Amazão\n",
       "1    Rica  3143154  Shopee\n",
       "2   Nuiza     6666  Amazão\n",
       "3  Helona  1231231  Amazão\n",
       "4    Rica  3143154    Petz"
      ]
     },
     "execution_count": 17,
     "metadata": {},
     "output_type": "execute_result"
    }
   ],
   "source": [
    "df"
   ]
  },
  {
   "cell_type": "code",
   "execution_count": 18,
   "metadata": {},
   "outputs": [],
   "source": [
    "df['cpf_mascarado'] = df['cpf'].apply(lambda x: hash_string(x))"
   ]
  },
  {
   "cell_type": "code",
   "execution_count": 19,
   "metadata": {},
   "outputs": [
    {
     "data": {
      "text/html": [
       "<div>\n",
       "<style scoped>\n",
       "    .dataframe tbody tr th:only-of-type {\n",
       "        vertical-align: middle;\n",
       "    }\n",
       "\n",
       "    .dataframe tbody tr th {\n",
       "        vertical-align: top;\n",
       "    }\n",
       "\n",
       "    .dataframe thead th {\n",
       "        text-align: right;\n",
       "    }\n",
       "</style>\n",
       "<table border=\"1\" class=\"dataframe\">\n",
       "  <thead>\n",
       "    <tr style=\"text-align: right;\">\n",
       "      <th></th>\n",
       "      <th>nome</th>\n",
       "      <th>cpf</th>\n",
       "      <th>loja</th>\n",
       "      <th>cpf_mascarado</th>\n",
       "    </tr>\n",
       "  </thead>\n",
       "  <tbody>\n",
       "    <tr>\n",
       "      <th>0</th>\n",
       "      <td>Rica</td>\n",
       "      <td>3143154</td>\n",
       "      <td>Amazão</td>\n",
       "      <td>6F5128C8A6FFC852B0AF0BBDDA1B7D6221F5ECCC130A4E...</td>\n",
       "    </tr>\n",
       "    <tr>\n",
       "      <th>1</th>\n",
       "      <td>Rica</td>\n",
       "      <td>3143154</td>\n",
       "      <td>Shopee</td>\n",
       "      <td>6F5128C8A6FFC852B0AF0BBDDA1B7D6221F5ECCC130A4E...</td>\n",
       "    </tr>\n",
       "    <tr>\n",
       "      <th>2</th>\n",
       "      <td>Nuiza</td>\n",
       "      <td>6666</td>\n",
       "      <td>Amazão</td>\n",
       "      <td>86F03EB6E408DD9AF399819D112E16C70440F5A40B4A9E...</td>\n",
       "    </tr>\n",
       "    <tr>\n",
       "      <th>3</th>\n",
       "      <td>Helona</td>\n",
       "      <td>1231231</td>\n",
       "      <td>Amazão</td>\n",
       "      <td>9A398A530E0068C64BDC168334C38AC48DDA3166B600A2...</td>\n",
       "    </tr>\n",
       "    <tr>\n",
       "      <th>4</th>\n",
       "      <td>Rica</td>\n",
       "      <td>3143154</td>\n",
       "      <td>Petz</td>\n",
       "      <td>6F5128C8A6FFC852B0AF0BBDDA1B7D6221F5ECCC130A4E...</td>\n",
       "    </tr>\n",
       "  </tbody>\n",
       "</table>\n",
       "</div>"
      ],
      "text/plain": [
       "     nome      cpf    loja                                      cpf_mascarado\n",
       "0    Rica  3143154  Amazão  6F5128C8A6FFC852B0AF0BBDDA1B7D6221F5ECCC130A4E...\n",
       "1    Rica  3143154  Shopee  6F5128C8A6FFC852B0AF0BBDDA1B7D6221F5ECCC130A4E...\n",
       "2   Nuiza     6666  Amazão  86F03EB6E408DD9AF399819D112E16C70440F5A40B4A9E...\n",
       "3  Helona  1231231  Amazão  9A398A530E0068C64BDC168334C38AC48DDA3166B600A2...\n",
       "4    Rica  3143154    Petz  6F5128C8A6FFC852B0AF0BBDDA1B7D6221F5ECCC130A4E..."
      ]
     },
     "execution_count": 19,
     "metadata": {},
     "output_type": "execute_result"
    }
   ],
   "source": [
    "df"
   ]
  }
 ],
 "metadata": {
  "kernelspec": {
   "display_name": ".venv",
   "language": "python",
   "name": "python3"
  },
  "language_info": {
   "codemirror_mode": {
    "name": "ipython",
    "version": 3
   },
   "file_extension": ".py",
   "mimetype": "text/x-python",
   "name": "python",
   "nbconvert_exporter": "python",
   "pygments_lexer": "ipython3",
   "version": "3.12.7"
  }
 },
 "nbformat": 4,
 "nbformat_minor": 2
}
