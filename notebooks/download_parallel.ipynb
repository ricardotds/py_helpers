{
 "cells": [
  {
   "cell_type": "markdown",
   "metadata": {},
   "source": [
    "#### Download files from website"
   ]
  },
  {
   "cell_type": "markdown",
   "metadata": {},
   "source": [
    "##### Imports"
   ]
  },
  {
   "cell_type": "code",
   "execution_count": 1,
   "metadata": {},
   "outputs": [],
   "source": [
    "from bs4 import BeautifulSoup\n",
    "import requests\n",
    "import time\n",
    "from multiprocessing import cpu_count\n",
    "from multiprocessing.pool import ThreadPool\n",
    "import os"
   ]
  },
  {
   "cell_type": "markdown",
   "metadata": {},
   "source": [
    "##### defs"
   ]
  },
  {
   "cell_type": "code",
   "execution_count": 2,
   "metadata": {},
   "outputs": [],
   "source": [
    "def download_url(args): \n",
    "    t0 = time.time() \n",
    "    url, fn = args[0], args[1] \n",
    "    try: \n",
    "        r = requests.get(url) \n",
    "        with open(fn, 'wb') as f: \n",
    "            f.write(r.content) \n",
    "            return(url, time.time() - t0) \n",
    "    except Exception as e: \n",
    "        print('Exception in download_url():', e)"
   ]
  },
  {
   "cell_type": "code",
   "execution_count": 3,
   "metadata": {},
   "outputs": [],
   "source": [
    "def download_parallel(args): \n",
    "    cpus = cpu_count() \n",
    "    results = ThreadPool(cpus - 1).imap_unordered(download_url, args) \n",
    "    for result in results: \n",
    "        print('url:', result[0], 'time (s):', result[1])"
   ]
  },
  {
   "cell_type": "code",
   "execution_count": 4,
   "metadata": {},
   "outputs": [],
   "source": [
    "def download_sequencial(inputs):\n",
    "    t0 = time.time() \n",
    "    for i in inputs: \n",
    "        result = download_url(i) \n",
    "        print('url:', result[0], 'time (s):', result[1]) \n",
    "        print('Total time:', time.time() - t0)"
   ]
  },
  {
   "cell_type": "markdown",
   "metadata": {},
   "source": [
    "##### Get Data"
   ]
  },
  {
   "cell_type": "code",
   "execution_count": 5,
   "metadata": {},
   "outputs": [],
   "source": [
    "url = \"https://sistemas.anac.gov.br/dadosabertos/Aeronaves/RAB/Historico_RAB/\"\n",
    "response  = requests.get(url)"
   ]
  },
  {
   "cell_type": "code",
   "execution_count": 6,
   "metadata": {},
   "outputs": [],
   "source": [
    "local_fs_path = \"E:\\\\projects_datasets\\\\ANAC\\\\Historico_RAB\\\\\""
   ]
  },
  {
   "cell_type": "code",
   "execution_count": 7,
   "metadata": {},
   "outputs": [
    {
     "name": "stdout",
     "output_type": "stream",
     "text": [
      "dir already exists\n"
     ]
    }
   ],
   "source": [
    "try:\n",
    "    os.makedirs(local_fs_path)\n",
    "except FileExistsError:\n",
    "    print(\"dir already exists\")"
   ]
  },
  {
   "cell_type": "code",
   "execution_count": 8,
   "metadata": {},
   "outputs": [],
   "source": [
    "# Generate zip with href and local fs\n",
    "hrefs, lfs = [],[]\n",
    "if response.status_code == 200:\n",
    "    data = response.text\n",
    "    soup = BeautifulSoup(data)\n",
    "    for link in soup.find_all('a'):\n",
    "        href = link.get('href')\n",
    "        if href[-3:] == \"csv\":  #csv files only\n",
    "            hrefs.append(url+href)\n",
    "            lfs.append(local_fs_path+href)\n",
    "inputs = zip(hrefs, lfs) "
   ]
  },
  {
   "cell_type": "code",
   "execution_count": 9,
   "metadata": {},
   "outputs": [],
   "source": [
    "# download_sequencial(inputs)"
   ]
  },
  {
   "cell_type": "code",
   "execution_count": 10,
   "metadata": {},
   "outputs": [
    {
     "name": "stdout",
     "output_type": "stream",
     "text": [
      "url: https://sistemas.anac.gov.br/dadosabertos/Aeronaves/RAB/Historico_RAB/2018-09.csv time (s): 2.158520460128784\n",
      "url: https://sistemas.anac.gov.br/dadosabertos/Aeronaves/RAB/Historico_RAB/2018-06.csv time (s): 2.240299701690674\n",
      "url: https://sistemas.anac.gov.br/dadosabertos/Aeronaves/RAB/Historico_RAB/2017-01.csv time (s): 2.278184652328491\n",
      "url: https://sistemas.anac.gov.br/dadosabertos/Aeronaves/RAB/Historico_RAB/2019-01.csv time (s): 2.427140951156616\n",
      "url: https://sistemas.anac.gov.br/dadosabertos/Aeronaves/RAB/Historico_RAB/2019-06.csv time (s): 2.974348783493042\n",
      "url: https://sistemas.anac.gov.br/dadosabertos/Aeronaves/RAB/Historico_RAB/2017-03.csv time (s): 2.9873504638671875\n",
      "url: https://sistemas.anac.gov.br/dadosabertos/Aeronaves/RAB/Historico_RAB/2018-05.csv time (s): 3.182001829147339\n",
      "url: https://sistemas.anac.gov.br/dadosabertos/Aeronaves/RAB/Historico_RAB/2019-03.csv time (s): 3.4569504261016846\n",
      "url: https://sistemas.anac.gov.br/dadosabertos/Aeronaves/RAB/Historico_RAB/2019-07.csv time (s): 4.526190519332886\n",
      "url: https://sistemas.anac.gov.br/dadosabertos/Aeronaves/RAB/Historico_RAB/2017-12.csv time (s): 5.057369709014893\n",
      "url: https://sistemas.anac.gov.br/dadosabertos/Aeronaves/RAB/Historico_RAB/2017-06.csv time (s): 5.19299578666687\n",
      "url: https://sistemas.anac.gov.br/dadosabertos/Aeronaves/RAB/Historico_RAB/2020-01.csv time (s): 2.925398111343384\n",
      "url: https://sistemas.anac.gov.br/dadosabertos/Aeronaves/RAB/Historico_RAB/2019-04.csv time (s): 5.378560304641724\n",
      "url: https://sistemas.anac.gov.br/dadosabertos/Aeronaves/RAB/Historico_RAB/2018-04.csv time (s): 5.592311143875122\n",
      "url: https://sistemas.anac.gov.br/dadosabertos/Aeronaves/RAB/Historico_RAB/2018-12.csv time (s): 5.926032304763794\n",
      "url: https://sistemas.anac.gov.br/dadosabertos/Aeronaves/RAB/Historico_RAB/2017-05.csv time (s): 6.120307922363281\n",
      "url: https://sistemas.anac.gov.br/dadosabertos/Aeronaves/RAB/Historico_RAB/2017-08.csv time (s): 6.197526454925537\n",
      "url: https://sistemas.anac.gov.br/dadosabertos/Aeronaves/RAB/Historico_RAB/2018-11.csv time (s): 6.227186441421509\n",
      "url: https://sistemas.anac.gov.br/dadosabertos/Aeronaves/RAB/Historico_RAB/2018-03.csv time (s): 6.292577743530273\n",
      "url: https://sistemas.anac.gov.br/dadosabertos/Aeronaves/RAB/Historico_RAB/2019-02.csv time (s): 6.305582046508789\n",
      "url: https://sistemas.anac.gov.br/dadosabertos/Aeronaves/RAB/Historico_RAB/2017-10.csv time (s): 6.373449087142944\n",
      "url: https://sistemas.anac.gov.br/dadosabertos/Aeronaves/RAB/Historico_RAB/2019-09.csv time (s): 4.455179929733276\n",
      "url: https://sistemas.anac.gov.br/dadosabertos/Aeronaves/RAB/Historico_RAB/2017-09.csv time (s): 6.708393812179565\n",
      "url: https://sistemas.anac.gov.br/dadosabertos/Aeronaves/RAB/Historico_RAB/2018-01.csv time (s): 6.81062388420105\n",
      "url: https://sistemas.anac.gov.br/dadosabertos/Aeronaves/RAB/Historico_RAB/2019-08.csv time (s): 6.993656873703003\n",
      "url: https://sistemas.anac.gov.br/dadosabertos/Aeronaves/RAB/Historico_RAB/2018-08.csv time (s): 7.015013933181763\n",
      "url: https://sistemas.anac.gov.br/dadosabertos/Aeronaves/RAB/Historico_RAB/2018-07.csv time (s): 7.115503549575806\n",
      "url: https://sistemas.anac.gov.br/dadosabertos/Aeronaves/RAB/Historico_RAB/2017-04.csv time (s): 7.185950517654419\n",
      "url: https://sistemas.anac.gov.br/dadosabertos/Aeronaves/RAB/Historico_RAB/2019-11.csv time (s): 4.9926512241363525\n",
      "url: https://sistemas.anac.gov.br/dadosabertos/Aeronaves/RAB/Historico_RAB/2019-10.csv time (s): 5.132621765136719\n",
      "url: https://sistemas.anac.gov.br/dadosabertos/Aeronaves/RAB/Historico_RAB/2017-11.csv time (s): 7.578949689865112\n",
      "url: https://sistemas.anac.gov.br/dadosabertos/Aeronaves/RAB/Historico_RAB/2018-02.csv time (s): 7.6897876262664795\n",
      "url: https://sistemas.anac.gov.br/dadosabertos/Aeronaves/RAB/Historico_RAB/2017-02.csv time (s): 7.913031101226807\n",
      "url: https://sistemas.anac.gov.br/dadosabertos/Aeronaves/RAB/Historico_RAB/2017-07.csv time (s): 9.066503286361694\n",
      "url: https://sistemas.anac.gov.br/dadosabertos/Aeronaves/RAB/Historico_RAB/2020-03.csv time (s): 6.640980243682861\n",
      "url: https://sistemas.anac.gov.br/dadosabertos/Aeronaves/RAB/Historico_RAB/2021-12.csv time (s): 2.779862880706787\n",
      "url: https://sistemas.anac.gov.br/dadosabertos/Aeronaves/RAB/Historico_RAB/2021-04.csv time (s): 3.921217203140259\n",
      "url: https://sistemas.anac.gov.br/dadosabertos/Aeronaves/RAB/Historico_RAB/2018-10.csv time (s): 10.397900104522705\n",
      "url: https://sistemas.anac.gov.br/dadosabertos/Aeronaves/RAB/Historico_RAB/2020-04.csv time (s): 7.414110898971558\n",
      "url: https://sistemas.anac.gov.br/dadosabertos/Aeronaves/RAB/Historico_RAB/2020-06.csv time (s): 6.402666807174683\n",
      "url: https://sistemas.anac.gov.br/dadosabertos/Aeronaves/RAB/Historico_RAB/2020-02.csv time (s): 8.33117151260376\n",
      "url: https://sistemas.anac.gov.br/dadosabertos/Aeronaves/RAB/Historico_RAB/2021-06.csv time (s): 5.278937578201294\n",
      "url: https://sistemas.anac.gov.br/dadosabertos/Aeronaves/RAB/Historico_RAB/2022-03.csv time (s): 4.322768688201904\n",
      "url: https://sistemas.anac.gov.br/dadosabertos/Aeronaves/RAB/Historico_RAB/2020-08.csv time (s): 6.7953479290008545\n",
      "url: https://sistemas.anac.gov.br/dadosabertos/Aeronaves/RAB/Historico_RAB/2021-01.csv time (s): 5.91692042350769\n",
      "url: https://sistemas.anac.gov.br/dadosabertos/Aeronaves/RAB/Historico_RAB/2020-05.csv time (s): 8.65532398223877\n",
      "url: https://sistemas.anac.gov.br/dadosabertos/Aeronaves/RAB/Historico_RAB/2021-08.csv time (s): 6.295613765716553\n",
      "url: https://sistemas.anac.gov.br/dadosabertos/Aeronaves/RAB/Historico_RAB/2020-10.csv time (s): 7.676835298538208\n",
      "url: https://sistemas.anac.gov.br/dadosabertos/Aeronaves/RAB/Historico_RAB/2020-07.csv time (s): 8.042236089706421\n",
      "url: https://sistemas.anac.gov.br/dadosabertos/Aeronaves/RAB/Historico_RAB/2021-10.csv time (s): 6.165400505065918\n",
      "url: https://sistemas.anac.gov.br/dadosabertos/Aeronaves/RAB/Historico_RAB/2021-11.csv time (s): 6.313249111175537\n",
      "url: https://sistemas.anac.gov.br/dadosabertos/Aeronaves/RAB/Historico_RAB/2020-09.csv time (s): 7.982723712921143\n",
      "url: https://sistemas.anac.gov.br/dadosabertos/Aeronaves/RAB/Historico_RAB/2022-07.csv time (s): 4.474167823791504\n",
      "url: https://sistemas.anac.gov.br/dadosabertos/Aeronaves/RAB/Historico_RAB/2021-05.csv time (s): 7.310126066207886\n",
      "url: https://sistemas.anac.gov.br/dadosabertos/Aeronaves/RAB/Historico_RAB/2022-10.csv time (s): 3.479832649230957\n",
      "url: https://sistemas.anac.gov.br/dadosabertos/Aeronaves/RAB/Historico_RAB/2020-11.csv time (s): 8.14807391166687\n",
      "url: https://sistemas.anac.gov.br/dadosabertos/Aeronaves/RAB/Historico_RAB/2022-01.csv time (s): 6.7151312828063965\n",
      "url: https://sistemas.anac.gov.br/dadosabertos/Aeronaves/RAB/Historico_RAB/2022-04.csv time (s): 6.414130687713623\n",
      "url: https://sistemas.anac.gov.br/dadosabertos/Aeronaves/RAB/Historico_RAB/2021-07.csv time (s): 7.707815408706665\n",
      "url: https://sistemas.anac.gov.br/dadosabertos/Aeronaves/RAB/Historico_RAB/2021-09.csv time (s): 7.627610206604004\n",
      "url: https://sistemas.anac.gov.br/dadosabertos/Aeronaves/RAB/Historico_RAB/2023-04.csv time (s): 3.153203248977661\n",
      "url: https://sistemas.anac.gov.br/dadosabertos/Aeronaves/RAB/Historico_RAB/2022-06.csv time (s): 7.551807641983032\n",
      "url: https://sistemas.anac.gov.br/dadosabertos/Aeronaves/RAB/Historico_RAB/2021-03.csv time (s): 9.35680890083313\n",
      "url: https://sistemas.anac.gov.br/dadosabertos/Aeronaves/RAB/Historico_RAB/2021-02.csv time (s): 9.467675924301147\n",
      "url: https://sistemas.anac.gov.br/dadosabertos/Aeronaves/RAB/Historico_RAB/2022-09.csv time (s): 5.806852579116821\n",
      "url: https://sistemas.anac.gov.br/dadosabertos/Aeronaves/RAB/Historico_RAB/2020-12.csv time (s): 10.015123128890991\n",
      "url: https://sistemas.anac.gov.br/dadosabertos/Aeronaves/RAB/Historico_RAB/2024-01.csv time (s): 2.836735248565674\n",
      "url: https://sistemas.anac.gov.br/dadosabertos/Aeronaves/RAB/Historico_RAB/2022-02.csv time (s): 9.041337966918945\n",
      "url: https://sistemas.anac.gov.br/dadosabertos/Aeronaves/RAB/Historico_RAB/2023-10.csv time (s): 3.4498238563537598\n",
      "url: https://sistemas.anac.gov.br/dadosabertos/Aeronaves/RAB/Historico_RAB/2023-08.csv time (s): 3.6669857501983643\n",
      "url: https://sistemas.anac.gov.br/dadosabertos/Aeronaves/RAB/Historico_RAB/2023-02.csv time (s): 5.524813413619995\n",
      "url: https://sistemas.anac.gov.br/dadosabertos/Aeronaves/RAB/Historico_RAB/2023-03.csv time (s): 5.284758567810059\n",
      "url: https://sistemas.anac.gov.br/dadosabertos/Aeronaves/RAB/Historico_RAB/2023-01.csv time (s): 6.072419166564941\n",
      "url: https://sistemas.anac.gov.br/dadosabertos/Aeronaves/RAB/Historico_RAB/2022-11.csv time (s): 6.614445209503174\n",
      "url: https://sistemas.anac.gov.br/dadosabertos/Aeronaves/RAB/Historico_RAB/2023-09.csv time (s): 4.033161401748657\n",
      "url: https://sistemas.anac.gov.br/dadosabertos/Aeronaves/RAB/Historico_RAB/2022-12.csv time (s): 6.550231456756592\n",
      "url: https://sistemas.anac.gov.br/dadosabertos/Aeronaves/RAB/Historico_RAB/2023-06.csv time (s): 5.178029775619507\n",
      "url: https://sistemas.anac.gov.br/dadosabertos/Aeronaves/RAB/Historico_RAB/2023-07.csv time (s): 5.564996242523193\n",
      "url: https://sistemas.anac.gov.br/dadosabertos/Aeronaves/RAB/Historico_RAB/2022-05.csv time (s): 10.028240442276001\n",
      "url: https://sistemas.anac.gov.br/dadosabertos/Aeronaves/RAB/Historico_RAB/2023-05.csv time (s): 6.087723731994629\n",
      "url: https://sistemas.anac.gov.br/dadosabertos/Aeronaves/RAB/Historico_RAB/2022-08.csv time (s): 8.611522436141968\n",
      "url: https://sistemas.anac.gov.br/dadosabertos/Aeronaves/RAB/Historico_RAB/2024-06.csv time (s): 4.519557237625122\n",
      "url: https://sistemas.anac.gov.br/dadosabertos/Aeronaves/RAB/Historico_RAB/2024-07.csv time (s): 4.6108880043029785\n",
      "url: https://sistemas.anac.gov.br/dadosabertos/Aeronaves/RAB/Historico_RAB/2023-12.csv time (s): 5.603368043899536\n",
      "url: https://sistemas.anac.gov.br/dadosabertos/Aeronaves/RAB/Historico_RAB/2024-04.csv time (s): 5.260241985321045\n",
      "url: https://sistemas.anac.gov.br/dadosabertos/Aeronaves/RAB/Historico_RAB/2023-11.csv time (s): 6.047753810882568\n",
      "url: https://sistemas.anac.gov.br/dadosabertos/Aeronaves/RAB/Historico_RAB/2024-03.csv time (s): 5.850740909576416\n",
      "url: https://sistemas.anac.gov.br/dadosabertos/Aeronaves/RAB/Historico_RAB/2024-02.csv time (s): 6.19207239151001\n",
      "url: https://sistemas.anac.gov.br/dadosabertos/Aeronaves/RAB/Historico_RAB/2024-05.csv time (s): 6.003500699996948\n"
     ]
    }
   ],
   "source": [
    "download_parallel(inputs)"
   ]
  },
  {
   "cell_type": "code",
   "execution_count": null,
   "metadata": {},
   "outputs": [],
   "source": []
  }
 ],
 "metadata": {
  "kernelspec": {
   "display_name": ".venv",
   "language": "python",
   "name": "python3"
  },
  "language_info": {
   "codemirror_mode": {
    "name": "ipython",
    "version": 3
   },
   "file_extension": ".py",
   "mimetype": "text/x-python",
   "name": "python",
   "nbconvert_exporter": "python",
   "pygments_lexer": "ipython3",
   "version": "3.12.4"
  }
 },
 "nbformat": 4,
 "nbformat_minor": 2
}
